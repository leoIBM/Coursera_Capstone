{
  "nbformat": 4,
  "nbformat_minor": 0,
  "metadata": {
    "colab": {
      "name": "Untitled2.ipynb",
      "provenance": [],
      "authorship_tag": "ABX9TyMgDzGkDjY/VTLIplR/zmw2",
      "include_colab_link": true
    },
    "kernelspec": {
      "name": "python3",
      "display_name": "Python 3"
    }
  },
  "cells": [
    {
      "cell_type": "markdown",
      "metadata": {
        "id": "view-in-github",
        "colab_type": "text"
      },
      "source": [
        "<a href=\"https://colab.research.google.com/github/leoIBM/Coursera_Capstone/blob/master/Week%203%20Toronto.ipynb\" target=\"_parent\"><img src=\"https://colab.research.google.com/assets/colab-badge.svg\" alt=\"Open In Colab\"/></a>"
      ]
    },
    {
      "cell_type": "markdown",
      "metadata": {
        "id": "TeU4edHk2_Mh",
        "colab_type": "text"
      },
      "source": [
        " This notebook will be mainly used for the capstone project."
      ]
    },
    {
      "cell_type": "markdown",
      "metadata": {
        "id": "XiYXs-h_4lGN",
        "colab_type": "text"
      },
      "source": [
        "**Week 2: Segmenting and Clustering Neighborhoods in Toronto**"
      ]
    },
    {
      "cell_type": "markdown",
      "metadata": {
        "id": "_4C4xhwsAV3S",
        "colab_type": "text"
      },
      "source": [
        "Importing"
      ]
    },
    {
      "cell_type": "code",
      "metadata": {
        "id": "GxX94jDU4rCL",
        "colab_type": "code",
        "colab": {
          "base_uri": "https://localhost:8080/",
          "height": 34
        },
        "outputId": "314aba71-b5e6-4c24-9fb5-c76a2f6e2ad4"
      },
      "source": [
        "import numpy as np # library to handle data in a vectorized manner\n",
        "\n",
        "import pandas as pd # library for data analsysis\n",
        "pd.set_option('display.max_columns', None)\n",
        "pd.set_option('display.max_rows', None)\n",
        "\n",
        "import json # library to handle JSON files\n",
        "\n",
        "from bs4 import BeautifulSoup # library to scrape information from web pages\n",
        "\n",
        "#!conda install -c conda-forge geopy --yes # uncomment this line if you haven't completed the Foursquare API lab\n",
        "from geopy.geocoders import Nominatim # convert an address into latitude and longitude values\n",
        "\n",
        "import requests # library to handle requests\n",
        "from pandas.io.json import json_normalize # tranform JSON file into a pandas dataframe\n",
        "\n",
        "# Matplotlib and associated plotting modules\n",
        "import matplotlib.cm as cm\n",
        "import matplotlib.colors as colors\n",
        "\n",
        "# import k-means from clustering stage\n",
        "from sklearn.cluster import KMeans\n",
        "\n",
        "#!conda install -c conda-forge folium=0.5.0 --yes # uncomment this line if you haven't completed the Foursquare API lab\n",
        "import folium # map rendering library\n",
        "\n",
        "print('Libraries imported.')"
      ],
      "execution_count": 9,
      "outputs": [
        {
          "output_type": "stream",
          "text": [
            "Libraries imported.\n"
          ],
          "name": "stdout"
        }
      ]
    },
    {
      "cell_type": "markdown",
      "metadata": {
        "id": "3Nlwvk5BAmek",
        "colab_type": "text"
      },
      "source": [
        "Downloading Data"
      ]
    },
    {
      "cell_type": "code",
      "metadata": {
        "id": "nqyrMmCH4_yC",
        "colab_type": "code",
        "colab": {
          "base_uri": "https://localhost:8080/",
          "height": 34
        },
        "outputId": "806bf160-92e0-4a2b-ad36-cdf3cf1b0edc"
      },
      "source": [
        "data = requests.get('https://en.wikipedia.org/wiki/List_of_postal_codes_of_Canada:_M').text\n",
        "print('Data downloaded!')\n",
        "bs = BeautifulSoup(data, 'html.parser')"
      ],
      "execution_count": 36,
      "outputs": [
        {
          "output_type": "stream",
          "text": [
            "Data downloaded!\n"
          ],
          "name": "stdout"
        }
      ]
    },
    {
      "cell_type": "markdown",
      "metadata": {
        "id": "iMxNQoMSAi3q",
        "colab_type": "text"
      },
      "source": [
        "Using Beautiful Soul"
      ]
    },
    {
      "cell_type": "code",
      "metadata": {
        "id": "R6FmpRWm5MEe",
        "colab_type": "code",
        "colab": {}
      },
      "source": [
        "data = []\n",
        "\n",
        "\n",
        "for row in bs.findAll('tr'):\n",
        "    lst = []\n",
        "    for col in row.findAll('td'):\n",
        "        lst.append(col.text.strip())\n",
        "    if len(lst) == 3:\n",
        "        data.append(lst)\n"
      ],
      "execution_count": 21,
      "outputs": []
    },
    {
      "cell_type": "markdown",
      "metadata": {
        "id": "zw_G5t0jArXi",
        "colab_type": "text"
      },
      "source": [
        "Creating dataframe"
      ]
    },
    {
      "cell_type": "code",
      "metadata": {
        "id": "MloD5tlr7lIn",
        "colab_type": "code",
        "colab": {
          "base_uri": "https://localhost:8080/",
          "height": 204
        },
        "outputId": "e5f565b3-236d-467b-8e51-8495e1670393"
      },
      "source": [
        "pd.set_option('display.max_colwidth', None)\n",
        "\n",
        "df = pd.DataFrame(data)\n",
        "\n",
        "df.head()"
      ],
      "execution_count": 22,
      "outputs": [
        {
          "output_type": "execute_result",
          "data": {
            "text/html": [
              "<div>\n",
              "<style scoped>\n",
              "    .dataframe tbody tr th:only-of-type {\n",
              "        vertical-align: middle;\n",
              "    }\n",
              "\n",
              "    .dataframe tbody tr th {\n",
              "        vertical-align: top;\n",
              "    }\n",
              "\n",
              "    .dataframe thead th {\n",
              "        text-align: right;\n",
              "    }\n",
              "</style>\n",
              "<table border=\"1\" class=\"dataframe\">\n",
              "  <thead>\n",
              "    <tr style=\"text-align: right;\">\n",
              "      <th></th>\n",
              "      <th>0</th>\n",
              "      <th>1</th>\n",
              "      <th>2</th>\n",
              "    </tr>\n",
              "  </thead>\n",
              "  <tbody>\n",
              "    <tr>\n",
              "      <th>0</th>\n",
              "      <td>M1A</td>\n",
              "      <td>Not assigned</td>\n",
              "      <td>Not assigned</td>\n",
              "    </tr>\n",
              "    <tr>\n",
              "      <th>1</th>\n",
              "      <td>M2A</td>\n",
              "      <td>Not assigned</td>\n",
              "      <td>Not assigned</td>\n",
              "    </tr>\n",
              "    <tr>\n",
              "      <th>2</th>\n",
              "      <td>M3A</td>\n",
              "      <td>North York</td>\n",
              "      <td>Parkwoods</td>\n",
              "    </tr>\n",
              "    <tr>\n",
              "      <th>3</th>\n",
              "      <td>M4A</td>\n",
              "      <td>North York</td>\n",
              "      <td>Victoria Village</td>\n",
              "    </tr>\n",
              "    <tr>\n",
              "      <th>4</th>\n",
              "      <td>M5A</td>\n",
              "      <td>Downtown Toronto</td>\n",
              "      <td>Regent Park, Harbourfront</td>\n",
              "    </tr>\n",
              "  </tbody>\n",
              "</table>\n",
              "</div>"
            ],
            "text/plain": [
              "     0                 1                          2\n",
              "0  M1A      Not assigned               Not assigned\n",
              "1  M2A      Not assigned               Not assigned\n",
              "2  M3A        North York                  Parkwoods\n",
              "3  M4A        North York           Victoria Village\n",
              "4  M5A  Downtown Toronto  Regent Park, Harbourfront"
            ]
          },
          "metadata": {
            "tags": []
          },
          "execution_count": 22
        }
      ]
    },
    {
      "cell_type": "markdown",
      "metadata": {
        "id": "UaVGY4t0At8J",
        "colab_type": "text"
      },
      "source": [
        "Name the Columns"
      ]
    },
    {
      "cell_type": "code",
      "metadata": {
        "id": "YmdgDTmR-2Pk",
        "colab_type": "code",
        "colab": {
          "base_uri": "https://localhost:8080/",
          "height": 204
        },
        "outputId": "eda04a07-34e2-49cd-cdd9-cb968402429b"
      },
      "source": [
        "\n",
        "df.columns = ['Postalcode', 'Borough', 'Neighborhood']\n",
        "df.head()"
      ],
      "execution_count": 23,
      "outputs": [
        {
          "output_type": "execute_result",
          "data": {
            "text/html": [
              "<div>\n",
              "<style scoped>\n",
              "    .dataframe tbody tr th:only-of-type {\n",
              "        vertical-align: middle;\n",
              "    }\n",
              "\n",
              "    .dataframe tbody tr th {\n",
              "        vertical-align: top;\n",
              "    }\n",
              "\n",
              "    .dataframe thead th {\n",
              "        text-align: right;\n",
              "    }\n",
              "</style>\n",
              "<table border=\"1\" class=\"dataframe\">\n",
              "  <thead>\n",
              "    <tr style=\"text-align: right;\">\n",
              "      <th></th>\n",
              "      <th>Postalcode</th>\n",
              "      <th>Borough</th>\n",
              "      <th>Neighborhood</th>\n",
              "    </tr>\n",
              "  </thead>\n",
              "  <tbody>\n",
              "    <tr>\n",
              "      <th>0</th>\n",
              "      <td>M1A</td>\n",
              "      <td>Not assigned</td>\n",
              "      <td>Not assigned</td>\n",
              "    </tr>\n",
              "    <tr>\n",
              "      <th>1</th>\n",
              "      <td>M2A</td>\n",
              "      <td>Not assigned</td>\n",
              "      <td>Not assigned</td>\n",
              "    </tr>\n",
              "    <tr>\n",
              "      <th>2</th>\n",
              "      <td>M3A</td>\n",
              "      <td>North York</td>\n",
              "      <td>Parkwoods</td>\n",
              "    </tr>\n",
              "    <tr>\n",
              "      <th>3</th>\n",
              "      <td>M4A</td>\n",
              "      <td>North York</td>\n",
              "      <td>Victoria Village</td>\n",
              "    </tr>\n",
              "    <tr>\n",
              "      <th>4</th>\n",
              "      <td>M5A</td>\n",
              "      <td>Downtown Toronto</td>\n",
              "      <td>Regent Park, Harbourfront</td>\n",
              "    </tr>\n",
              "  </tbody>\n",
              "</table>\n",
              "</div>"
            ],
            "text/plain": [
              "  Postalcode           Borough               Neighborhood\n",
              "0        M1A      Not assigned               Not assigned\n",
              "1        M2A      Not assigned               Not assigned\n",
              "2        M3A        North York                  Parkwoods\n",
              "3        M4A        North York           Victoria Village\n",
              "4        M5A  Downtown Toronto  Regent Park, Harbourfront"
            ]
          },
          "metadata": {
            "tags": []
          },
          "execution_count": 23
        }
      ]
    },
    {
      "cell_type": "markdown",
      "metadata": {
        "id": "pc8U2tC4AwLK",
        "colab_type": "text"
      },
      "source": [
        "Drop Not assigned Boroughs"
      ]
    },
    {
      "cell_type": "code",
      "metadata": {
        "id": "fweYlHPs-52T",
        "colab_type": "code",
        "colab": {
          "base_uri": "https://localhost:8080/",
          "height": 204
        },
        "outputId": "7a11005e-a476-48f1-976f-e0ce332bfdfd"
      },
      "source": [
        "df_drop = df[df.Borough != \"Not assigned\"].reset_index(drop=True)\n",
        "df_drop.head()"
      ],
      "execution_count": 37,
      "outputs": [
        {
          "output_type": "execute_result",
          "data": {
            "text/html": [
              "<div>\n",
              "<style scoped>\n",
              "    .dataframe tbody tr th:only-of-type {\n",
              "        vertical-align: middle;\n",
              "    }\n",
              "\n",
              "    .dataframe tbody tr th {\n",
              "        vertical-align: top;\n",
              "    }\n",
              "\n",
              "    .dataframe thead th {\n",
              "        text-align: right;\n",
              "    }\n",
              "</style>\n",
              "<table border=\"1\" class=\"dataframe\">\n",
              "  <thead>\n",
              "    <tr style=\"text-align: right;\">\n",
              "      <th></th>\n",
              "      <th>Postalcode</th>\n",
              "      <th>Borough</th>\n",
              "      <th>Neighborhood</th>\n",
              "    </tr>\n",
              "  </thead>\n",
              "  <tbody>\n",
              "    <tr>\n",
              "      <th>0</th>\n",
              "      <td>M3A</td>\n",
              "      <td>North York</td>\n",
              "      <td>Parkwoods</td>\n",
              "    </tr>\n",
              "    <tr>\n",
              "      <th>1</th>\n",
              "      <td>M4A</td>\n",
              "      <td>North York</td>\n",
              "      <td>Victoria Village</td>\n",
              "    </tr>\n",
              "    <tr>\n",
              "      <th>2</th>\n",
              "      <td>M5A</td>\n",
              "      <td>Downtown Toronto</td>\n",
              "      <td>Regent Park, Harbourfront</td>\n",
              "    </tr>\n",
              "    <tr>\n",
              "      <th>3</th>\n",
              "      <td>M6A</td>\n",
              "      <td>North York</td>\n",
              "      <td>Lawrence Manor, Lawrence Heights</td>\n",
              "    </tr>\n",
              "    <tr>\n",
              "      <th>4</th>\n",
              "      <td>M7A</td>\n",
              "      <td>Downtown Toronto</td>\n",
              "      <td>Queen's Park, Ontario Provincial Government</td>\n",
              "    </tr>\n",
              "  </tbody>\n",
              "</table>\n",
              "</div>"
            ],
            "text/plain": [
              "  Postalcode           Borough                                 Neighborhood\n",
              "0        M3A        North York                                    Parkwoods\n",
              "1        M4A        North York                             Victoria Village\n",
              "2        M5A  Downtown Toronto                    Regent Park, Harbourfront\n",
              "3        M6A        North York             Lawrence Manor, Lawrence Heights\n",
              "4        M7A  Downtown Toronto  Queen's Park, Ontario Provincial Government"
            ]
          },
          "metadata": {
            "tags": []
          },
          "execution_count": 37
        }
      ]
    },
    {
      "cell_type": "markdown",
      "metadata": {
        "id": "J1t1ZDSfA5_M",
        "colab_type": "text"
      },
      "source": [
        "Grouping neighborhoods"
      ]
    },
    {
      "cell_type": "code",
      "metadata": {
        "id": "MUoBQFVC_Bue",
        "colab_type": "code",
        "colab": {
          "base_uri": "https://localhost:8080/",
          "height": 204
        },
        "outputId": "746ff84a-ba2b-4421-c2b2-8f13fc18728a"
      },
      "source": [
        "df_group = df_drop.groupby([\"Postalcode\", \"Borough\"], as_index=False).agg(lambda x: \", \".join(x))\n",
        "df_group.head()"
      ],
      "execution_count": 29,
      "outputs": [
        {
          "output_type": "execute_result",
          "data": {
            "text/html": [
              "<div>\n",
              "<style scoped>\n",
              "    .dataframe tbody tr th:only-of-type {\n",
              "        vertical-align: middle;\n",
              "    }\n",
              "\n",
              "    .dataframe tbody tr th {\n",
              "        vertical-align: top;\n",
              "    }\n",
              "\n",
              "    .dataframe thead th {\n",
              "        text-align: right;\n",
              "    }\n",
              "</style>\n",
              "<table border=\"1\" class=\"dataframe\">\n",
              "  <thead>\n",
              "    <tr style=\"text-align: right;\">\n",
              "      <th></th>\n",
              "      <th>Postalcode</th>\n",
              "      <th>Borough</th>\n",
              "      <th>Neighborhood</th>\n",
              "    </tr>\n",
              "  </thead>\n",
              "  <tbody>\n",
              "    <tr>\n",
              "      <th>0</th>\n",
              "      <td>M1B</td>\n",
              "      <td>Scarborough</td>\n",
              "      <td>Malvern, Rouge</td>\n",
              "    </tr>\n",
              "    <tr>\n",
              "      <th>1</th>\n",
              "      <td>M1C</td>\n",
              "      <td>Scarborough</td>\n",
              "      <td>Rouge Hill, Port Union, Highland Creek</td>\n",
              "    </tr>\n",
              "    <tr>\n",
              "      <th>2</th>\n",
              "      <td>M1E</td>\n",
              "      <td>Scarborough</td>\n",
              "      <td>Guildwood, Morningside, West Hill</td>\n",
              "    </tr>\n",
              "    <tr>\n",
              "      <th>3</th>\n",
              "      <td>M1G</td>\n",
              "      <td>Scarborough</td>\n",
              "      <td>Woburn</td>\n",
              "    </tr>\n",
              "    <tr>\n",
              "      <th>4</th>\n",
              "      <td>M1H</td>\n",
              "      <td>Scarborough</td>\n",
              "      <td>Cedarbrae</td>\n",
              "    </tr>\n",
              "  </tbody>\n",
              "</table>\n",
              "</div>"
            ],
            "text/plain": [
              "  Postalcode      Borough                            Neighborhood\n",
              "0        M1B  Scarborough                          Malvern, Rouge\n",
              "1        M1C  Scarborough  Rouge Hill, Port Union, Highland Creek\n",
              "2        M1E  Scarborough       Guildwood, Morningside, West Hill\n",
              "3        M1G  Scarborough                                  Woburn\n",
              "4        M1H  Scarborough                               Cedarbrae"
            ]
          },
          "metadata": {
            "tags": []
          },
          "execution_count": 29
        }
      ]
    },
    {
      "cell_type": "markdown",
      "metadata": {
        "id": "RXo4J-UEBG3-",
        "colab_type": "text"
      },
      "source": [
        "Not assigned neighborhood, then the neighborhood same name as the borough."
      ]
    },
    {
      "cell_type": "code",
      "metadata": {
        "id": "JWWUcoSw_s_W",
        "colab_type": "code",
        "colab": {
          "base_uri": "https://localhost:8080/",
          "height": 204
        },
        "outputId": "cadd3827-0280-455d-b9d1-4c875dd52b7b"
      },
      "source": [
        "for index, row in df_group.iterrows():\n",
        "    if row[\"Neighborhood\"] == \"Not assigned\":\n",
        "        row[\"Neighborhood\"] = row[\"Borough\"]\n",
        "df_group.head()"
      ],
      "execution_count": 33,
      "outputs": [
        {
          "output_type": "execute_result",
          "data": {
            "text/html": [
              "<div>\n",
              "<style scoped>\n",
              "    .dataframe tbody tr th:only-of-type {\n",
              "        vertical-align: middle;\n",
              "    }\n",
              "\n",
              "    .dataframe tbody tr th {\n",
              "        vertical-align: top;\n",
              "    }\n",
              "\n",
              "    .dataframe thead th {\n",
              "        text-align: right;\n",
              "    }\n",
              "</style>\n",
              "<table border=\"1\" class=\"dataframe\">\n",
              "  <thead>\n",
              "    <tr style=\"text-align: right;\">\n",
              "      <th></th>\n",
              "      <th>Postalcode</th>\n",
              "      <th>Borough</th>\n",
              "      <th>Neighborhood</th>\n",
              "    </tr>\n",
              "  </thead>\n",
              "  <tbody>\n",
              "    <tr>\n",
              "      <th>0</th>\n",
              "      <td>M1B</td>\n",
              "      <td>Scarborough</td>\n",
              "      <td>Malvern, Rouge</td>\n",
              "    </tr>\n",
              "    <tr>\n",
              "      <th>1</th>\n",
              "      <td>M1C</td>\n",
              "      <td>Scarborough</td>\n",
              "      <td>Rouge Hill, Port Union, Highland Creek</td>\n",
              "    </tr>\n",
              "    <tr>\n",
              "      <th>2</th>\n",
              "      <td>M1E</td>\n",
              "      <td>Scarborough</td>\n",
              "      <td>Guildwood, Morningside, West Hill</td>\n",
              "    </tr>\n",
              "    <tr>\n",
              "      <th>3</th>\n",
              "      <td>M1G</td>\n",
              "      <td>Scarborough</td>\n",
              "      <td>Woburn</td>\n",
              "    </tr>\n",
              "    <tr>\n",
              "      <th>4</th>\n",
              "      <td>M1H</td>\n",
              "      <td>Scarborough</td>\n",
              "      <td>Cedarbrae</td>\n",
              "    </tr>\n",
              "  </tbody>\n",
              "</table>\n",
              "</div>"
            ],
            "text/plain": [
              "  Postalcode      Borough                            Neighborhood\n",
              "0        M1B  Scarborough                          Malvern, Rouge\n",
              "1        M1C  Scarborough  Rouge Hill, Port Union, Highland Creek\n",
              "2        M1E  Scarborough       Guildwood, Morningside, West Hill\n",
              "3        M1G  Scarborough                                  Woburn\n",
              "4        M1H  Scarborough                               Cedarbrae"
            ]
          },
          "metadata": {
            "tags": []
          },
          "execution_count": 33
        }
      ]
    },
    {
      "cell_type": "markdown",
      "metadata": {
        "id": "RuE0MSyeBMQb",
        "colab_type": "text"
      },
      "source": [
        " print the number of rows of the dataframe"
      ]
    },
    {
      "cell_type": "code",
      "metadata": {
        "id": "Psu3Mw-k_4ne",
        "colab_type": "code",
        "colab": {
          "base_uri": "https://localhost:8080/",
          "height": 51
        },
        "outputId": "75f72b9a-2667-4e94-f685-8e90a3ec2ef7"
      },
      "source": [
        "df_group.shape\n",
        "print(df_group.shape)\n",
        "print('103 rows')"
      ],
      "execution_count": 44,
      "outputs": [
        {
          "output_type": "stream",
          "text": [
            "(103, 3)\n",
            "103 rows\n"
          ],
          "name": "stdout"
        }
      ]
    },
    {
      "cell_type": "code",
      "metadata": {
        "id": "_RDWdS8fAAfz",
        "colab_type": "code",
        "colab": {}
      },
      "source": [
        ""
      ],
      "execution_count": null,
      "outputs": []
    }
  ]
}