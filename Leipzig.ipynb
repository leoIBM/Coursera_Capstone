{
  "nbformat": 4,
  "nbformat_minor": 0,
  "metadata": {
    "colab": {
      "name": "Untitled4.ipynb",
      "provenance": [],
      "authorship_tag": "ABX9TyP4KAecq42fqJXo//ayDhCP",
      "include_colab_link": true
    },
    "kernelspec": {
      "name": "python3",
      "display_name": "Python 3"
    }
  },
  "cells": [
    {
      "cell_type": "markdown",
      "metadata": {
        "id": "view-in-github",
        "colab_type": "text"
      },
      "source": [
        "<a href=\"https://colab.research.google.com/github/leoIBM/Coursera_Capstone/blob/master/Leipzig.ipynb\" target=\"_parent\"><img src=\"https://colab.research.google.com/assets/colab-badge.svg\" alt=\"Open In Colab\"/></a>"
      ]
    },
    {
      "cell_type": "markdown",
      "metadata": {
        "id": "25HFjdELemzz",
        "colab_type": "text"
      },
      "source": [
        "Best location in Leipzig"
      ]
    },
    {
      "cell_type": "markdown",
      "metadata": {
        "id": "tR-pjRLvf9GC",
        "colab_type": "text"
      },
      "source": [
        " **Introduction/Business Problem**\n",
        "\n",
        "\n",
        "Identifing the best neighborhood in Lepzig to open a business amidst of Gentrification\n",
        "\n",
        " **Data**\n",
        "\n",
        "\n",
        "Using Wikipedia and Foursquare Data\n",
        "\n",
        "\n",
        "\n",
        "Getting Subdivisions of Leipzig from\n",
        "https://en.wikipedia.org/wiki/Leipzig#Subdivison\n",
        "\n",
        "\n",
        "Receiving from Foursquare API\n",
        "1. Neighborhood\n",
        "2. Neighborhood Latitude\n",
        "3. Neighborhood Longitude\n",
        "4. Venue\n",
        "5. Name of the venue e.g. the name of a store or restaurant\n",
        "6. Venue Latitude\n",
        "7. Venue Longitude\n",
        "8. Venue Category"
      ]
    }
  ]
}