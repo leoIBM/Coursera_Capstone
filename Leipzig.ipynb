{
  "nbformat": 4,
  "nbformat_minor": 0,
  "metadata": {
    "colab": {
      "name": "Untitled4.ipynb",
      "provenance": [],
      "authorship_tag": "ABX9TyMKYt+0I+JOtXOkM88ZXYJx",
      "include_colab_link": true
    },
    "kernelspec": {
      "name": "python3",
      "display_name": "Python 3"
    }
  },
  "cells": [
    {
      "cell_type": "markdown",
      "metadata": {
        "id": "view-in-github",
        "colab_type": "text"
      },
      "source": [
        "<a href=\"https://colab.research.google.com/github/leoIBM/Coursera_Capstone/blob/master/Leipzig.ipynb\" target=\"_parent\"><img src=\"https://colab.research.google.com/assets/colab-badge.svg\" alt=\"Open In Colab\"/></a>"
      ]
    },
    {
      "cell_type": "markdown",
      "metadata": {
        "id": "25HFjdELemzz",
        "colab_type": "text"
      },
      "source": [
        "Best location in Leipzig"
      ]
    },
    {
      "cell_type": "markdown",
      "metadata": {
        "id": "tR-pjRLvf9GC",
        "colab_type": "text"
      },
      "source": [
        "Identifing the best neighborhood in Lepzig to open a business\n",
        "Using Wikipedia and Foursquare Data"
      ]
    }
  ]
}